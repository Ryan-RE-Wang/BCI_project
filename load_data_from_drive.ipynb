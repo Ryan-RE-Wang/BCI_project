{
  "nbformat": 4,
  "nbformat_minor": 0,
  "metadata": {
    "colab": {
      "name": "load data from drive",
      "provenance": [],
      "authorship_tag": "ABX9TyNVTaV+qSz+pPBckCAqU/93",
      "include_colab_link": true
    },
    "kernelspec": {
      "name": "python3",
      "display_name": "Python 3"
    },
    "language_info": {
      "name": "python"
    }
  },
  "cells": [
    {
      "cell_type": "markdown",
      "metadata": {
        "id": "view-in-github",
        "colab_type": "text"
      },
      "source": [
        "<a href=\"https://colab.research.google.com/github/Ryan-RE-Wang/BCI_project/blob/main/load_data_from_drive.ipynb\" target=\"_parent\"><img src=\"https://colab.research.google.com/assets/colab-badge.svg\" alt=\"Open In Colab\"/></a>"
      ]
    },
    {
      "cell_type": "markdown",
      "source": [
        "# Set up"
      ],
      "metadata": {
        "id": "C01NVhvPNaDg"
      }
    },
    {
      "cell_type": "code",
      "source": [
        "import numpy as np\n",
        "import pandas as pd\n",
        "import matplotlib.pyplot as plt\n",
        "from random import seed\n",
        "from collections import Counter\n",
        "from datetime import datetime\n",
        "import time\n",
        "import os, sys\n",
        "\n",
        "from sklearn.model_selection import StratifiedKFold\n",
        "from sklearn.ensemble import RandomForestClassifier\n",
        "from sklearn.metrics import confusion_matrix, precision_recall_fscore_support, cohen_kappa_score, accuracy_score"
      ],
      "metadata": {
        "id": "MxyYOr5DDU-o"
      },
      "execution_count": 1,
      "outputs": []
    },
    {
      "cell_type": "code",
      "source": [
        "from google.colab import drive\n",
        "drive.mount('/content/drive', force_remount=True)"
      ],
      "metadata": {
        "colab": {
          "base_uri": "https://localhost:8080/"
        },
        "id": "sC_EBrz1IR75",
        "outputId": "e3b8e88b-77a5-49b1-c403-64e1e93e6596"
      },
      "execution_count": 2,
      "outputs": [
        {
          "output_type": "stream",
          "name": "stdout",
          "text": [
            "Mounted at /content/drive\n"
          ]
        }
      ]
    },
    {
      "cell_type": "code",
      "source": [
        "!pip install mne"
      ],
      "metadata": {
        "colab": {
          "base_uri": "https://localhost:8080/"
        },
        "id": "sM0Ue5SkkZri",
        "outputId": "89be4791-e571-40fd-f030-dfc4a6eeba68"
      },
      "execution_count": 4,
      "outputs": [
        {
          "output_type": "stream",
          "name": "stdout",
          "text": [
            "Looking in indexes: https://pypi.org/simple, https://us-python.pkg.dev/colab-wheels/public/simple/\n",
            "Collecting mne\n",
            "  Downloading mne-1.0.3-py3-none-any.whl (7.5 MB)\n",
            "\u001b[K     |████████████████████████████████| 7.5 MB 4.4 MB/s \n",
            "\u001b[?25hRequirement already satisfied: jinja2 in /usr/local/lib/python3.7/dist-packages (from mne) (2.11.3)\n",
            "Requirement already satisfied: matplotlib in /usr/local/lib/python3.7/dist-packages (from mne) (3.2.2)\n",
            "Requirement already satisfied: tqdm in /usr/local/lib/python3.7/dist-packages (from mne) (4.64.0)\n",
            "Requirement already satisfied: packaging in /usr/local/lib/python3.7/dist-packages (from mne) (21.3)\n",
            "Requirement already satisfied: pooch>=1.5 in /usr/local/lib/python3.7/dist-packages (from mne) (1.6.0)\n",
            "Requirement already satisfied: decorator in /usr/local/lib/python3.7/dist-packages (from mne) (4.4.2)\n",
            "Requirement already satisfied: numpy>=1.15.4 in /usr/local/lib/python3.7/dist-packages (from mne) (1.21.6)\n",
            "Requirement already satisfied: scipy>=1.1.0 in /usr/local/lib/python3.7/dist-packages (from mne) (1.4.1)\n",
            "Requirement already satisfied: appdirs>=1.3.0 in /usr/local/lib/python3.7/dist-packages (from pooch>=1.5->mne) (1.4.4)\n",
            "Requirement already satisfied: requests>=2.19.0 in /usr/local/lib/python3.7/dist-packages (from pooch>=1.5->mne) (2.23.0)\n",
            "Requirement already satisfied: pyparsing!=3.0.5,>=2.0.2 in /usr/local/lib/python3.7/dist-packages (from packaging->mne) (3.0.9)\n",
            "Requirement already satisfied: certifi>=2017.4.17 in /usr/local/lib/python3.7/dist-packages (from requests>=2.19.0->pooch>=1.5->mne) (2022.5.18.1)\n",
            "Requirement already satisfied: urllib3!=1.25.0,!=1.25.1,<1.26,>=1.21.1 in /usr/local/lib/python3.7/dist-packages (from requests>=2.19.0->pooch>=1.5->mne) (1.24.3)\n",
            "Requirement already satisfied: idna<3,>=2.5 in /usr/local/lib/python3.7/dist-packages (from requests>=2.19.0->pooch>=1.5->mne) (2.10)\n",
            "Requirement already satisfied: chardet<4,>=3.0.2 in /usr/local/lib/python3.7/dist-packages (from requests>=2.19.0->pooch>=1.5->mne) (3.0.4)\n",
            "Requirement already satisfied: MarkupSafe>=0.23 in /usr/local/lib/python3.7/dist-packages (from jinja2->mne) (2.0.1)\n",
            "Requirement already satisfied: cycler>=0.10 in /usr/local/lib/python3.7/dist-packages (from matplotlib->mne) (0.11.0)\n",
            "Requirement already satisfied: kiwisolver>=1.0.1 in /usr/local/lib/python3.7/dist-packages (from matplotlib->mne) (1.4.2)\n",
            "Requirement already satisfied: python-dateutil>=2.1 in /usr/local/lib/python3.7/dist-packages (from matplotlib->mne) (2.8.2)\n",
            "Requirement already satisfied: typing-extensions in /usr/local/lib/python3.7/dist-packages (from kiwisolver>=1.0.1->matplotlib->mne) (4.2.0)\n",
            "Requirement already satisfied: six>=1.5 in /usr/local/lib/python3.7/dist-packages (from python-dateutil>=2.1->matplotlib->mne) (1.15.0)\n",
            "Installing collected packages: mne\n",
            "Successfully installed mne-1.0.3\n"
          ]
        }
      ]
    },
    {
      "cell_type": "code",
      "source": [
        "sys.path.append('/content/drive/Shareddrives/BCI/sleep_study/sleep_study')\n",
        "import sleep_study as ss"
      ],
      "metadata": {
        "id": "I2H5BzCFDh1W"
      },
      "execution_count": 5,
      "outputs": []
    },
    {
      "cell_type": "markdown",
      "source": [
        "# Useful Functions"
      ],
      "metadata": {
        "id": "lp_oqUo5Djbu"
      }
    },
    {
      "cell_type": "code",
      "source": [
        "def get_metrics(y, y_hat, verbose=True):\n",
        "    cf = confusion_matrix(y, y_hat)\n",
        "    ncf = 100*confusion_matrix(y, y_hat, normalize='true') # percentage\n",
        "    precision,recall,mf,support = precision_recall_fscore_support(y,y_hat,average='macro')\n",
        "    kp = cohen_kappa_score(y, y_hat)\n",
        "    acc = 100*accuracy_score(y, y_hat) # percentage\n",
        "    \n",
        "    if verbose:\n",
        "        print('\\nConfusion Matrix')\n",
        "        print(cf)\n",
        "        print('\\nNormalized Confusion Matrix')\n",
        "        print(np.round(ncf))\n",
        "        print('Accuracy: ', acc)\n",
        "        print('Precision: ',precision)\n",
        "        print('Recall: ',recall)\n",
        "        print('Macro-F1 Score: ',mf)\n",
        "        print('Kohen Kappa: ',kp)\n",
        "        \n",
        "    return {'confusion matrix': cf,\n",
        "            'normalized confusion matrix': ncf,\n",
        "            'accuracy': acc,\n",
        "            'precision': precision,\n",
        "            'recall': recall,\n",
        "            'Macro-F1 Score': mf,\n",
        "            'Kohen Kappa': kp}"
      ],
      "metadata": {
        "id": "XrJkRIsmDmwG"
      },
      "execution_count": 6,
      "outputs": []
    },
    {
      "cell_type": "code",
      "source": [
        "def print_all_metrics(res, keys):\n",
        "    ncf_name = 'normalized confusion matrix'\n",
        "    \n",
        "    for i, k in enumerate(keys):\n",
        "        all_metrics = res[k]\n",
        "        num_trials = len(all_metrics)\n",
        "                \n",
        "        means = pd.DataFrame(data = np.round(np.mean([all_metrics[rr][ncf_name] for rr in range(num_trials)], axis=0), 1), dtype='str')\n",
        "        stds = pd.DataFrame(data = np.round(np.std([all_metrics[rr][ncf_name] for rr in range(num_trials)], axis=0), 1), dtype='str')\n",
        "        tbl = (means + \" \" + u\"\\u00B1\" + \" \" + stds).to_numpy()\n",
        "        print(ncf_name)\n",
        "        print(tbl) # I want normalized CF to print nicely with mean \\pm standard deviation.\n",
        "\n",
        "        for j in ['accuracy', 'precision', 'recall', 'Macro-F1 Score', 'Kohen Kappa']:\n",
        "            m = str(np.round(np.mean([all_metrics[rr][j] for rr in range(num_trials)]), 3))\n",
        "            s = str(np.round(np.std([all_metrics[rr][j] for rr in range(num_trials)]), 3))\n",
        "            print(j, \":\", m + \" \" + u\"\\u00B1\" + \" \" + s)\n",
        "        print( )"
      ],
      "metadata": {
        "id": "GaLATE5FDo74"
      },
      "execution_count": 7,
      "outputs": []
    },
    {
      "cell_type": "code",
      "source": [
        "def get_npz_file_names(path):\n",
        "    files = []\n",
        "    with os.scandir(path) as it:\n",
        "        for entry in it:\n",
        "            if (entry.name.endswith('.npz') or entry.name.endswith('.NPZ')) and entry.is_file():\n",
        "                files.append(path+entry.name)\n",
        "    return files"
      ],
      "metadata": {
        "id": "LvFSQEc2Dr2p"
      },
      "execution_count": 8,
      "outputs": []
    },
    {
      "cell_type": "code",
      "source": [
        "def load_features(fn, verbose=False):   \n",
        "    X = np.load(fn, allow_pickle=True)\n",
        "    features, labels = X[\"features\"], X[\"labels\"]\n",
        "    if verbose:\n",
        "        print(fn)\n",
        "        print(features.shape, labels.shape)\n",
        "        \n",
        "    return features, labels"
      ],
      "metadata": {
        "id": "SWIUBruEDtSP"
      },
      "execution_count": 9,
      "outputs": []
    },
    {
      "cell_type": "code",
      "source": [
        "def train_test_classifier(idxs, data, clf, verbose=True):\n",
        "    \n",
        "    train_idx, test_idx = idxs\n",
        "    X, y = data\n",
        "    \n",
        "    X_train, X_test = X[train_idx,:], X[test_idx,:]\n",
        "    y_train, y_test = y[train_idx], y[test_idx]\n",
        "    \n",
        "    if verbose:\n",
        "        print('train set class distribution', sorted(Counter(y_train).items()))\n",
        "        print('test set class distribution', sorted(Counter(y_test).items()))\n",
        "\n",
        "    t = time.time()\n",
        "    clf.fit(X_train, y_train)\n",
        "\n",
        "    if verbose:\n",
        "        print('training took', np.around((time.time()-t)/60, 2), 'minutes.')\n",
        "\n",
        "    y_hat = rf.predict(X_test)\n",
        "\n",
        "    metrics = get_metrics(y_test, y_hat, verbose=False)\n",
        "\n",
        "    if verbose:\n",
        "        print(metrics)\n",
        "        print( )\n",
        "\n",
        "    return metrics, y_hat"
      ],
      "metadata": {
        "id": "XZAU-sqDDugK"
      },
      "execution_count": 10,
      "outputs": []
    },
    {
      "cell_type": "markdown",
      "source": [
        "# Train and test classifier"
      ],
      "metadata": {
        "id": "_GgfmT12EBZu"
      }
    },
    {
      "cell_type": "code",
      "source": [
        "seed = 0 # for reproducibility\n",
        "num_trials = 3\n",
        "\n",
        "rf = RandomForestClassifier(n_estimators=100, random_state=seed, bootstrap=True, n_jobs=-1)\n",
        "cv = StratifiedKFold(n_splits=num_trials, shuffle=True, random_state=seed)\n",
        "\n",
        "feature_files = get_npz_file_names('/content/drive/Shareddrives/BCI/BCI_Data/Sleep_Data/')[0:1]\n",
        "print(feature_files)"
      ],
      "metadata": {
        "id": "8rjCUht5EHUS",
        "colab": {
          "base_uri": "https://localhost:8080/"
        },
        "outputId": "6571f290-dfe0-4a38-f316-ae63d0f5b026"
      },
      "execution_count": 16,
      "outputs": [
        {
          "output_type": "stream",
          "name": "stdout",
          "text": [
            "['/content/drive/Shareddrives/BCI/BCI_Data/Sleep_Data/wavelet_features20743_15763.npz']\n"
          ]
        }
      ]
    },
    {
      "cell_type": "code",
      "source": [
        "features, labels = load_features(fn)\n",
        "\n",
        "# features are waveform \n",
        "# labels are the icd_code"
      ],
      "metadata": {
        "id": "qYK_R5Ugl1iD"
      },
      "execution_count": 17,
      "outputs": []
    }
  ]
}