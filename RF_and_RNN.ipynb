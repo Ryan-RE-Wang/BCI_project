{
  "nbformat": 4,
  "nbformat_minor": 0,
  "metadata": {
    "colab": {
      "name": "RF and RNN",
      "provenance": [],
      "collapsed_sections": [
        "C01NVhvPNaDg",
        "lp_oqUo5Djbu"
      ],
      "authorship_tag": "ABX9TyPbItetJXZ3URk2yfQKEKzP",
      "include_colab_link": true
    },
    "kernelspec": {
      "name": "python3",
      "display_name": "Python 3"
    },
    "language_info": {
      "name": "python"
    },
    "accelerator": "GPU"
  },
  "cells": [
    {
      "cell_type": "markdown",
      "metadata": {
        "id": "view-in-github",
        "colab_type": "text"
      },
      "source": [
        "<a href=\"https://colab.research.google.com/github/Ryan-RE-Wang/BCI_project/blob/main/RF_and_RNN.ipynb\" target=\"_parent\"><img src=\"https://colab.research.google.com/assets/colab-badge.svg\" alt=\"Open In Colab\"/></a>"
      ]
    },
    {
      "cell_type": "markdown",
      "source": [
        "# Set up"
      ],
      "metadata": {
        "id": "C01NVhvPNaDg"
      }
    },
    {
      "cell_type": "code",
      "source": [
        "import numpy as np\n",
        "import pandas as pd\n",
        "import matplotlib.pyplot as plt\n",
        "from random import seed\n",
        "from collections import Counter\n",
        "from datetime import datetime\n",
        "import time\n",
        "import os, sys\n",
        "import keras\n",
        "import tensorflow as tf\n",
        "\n",
        "from sklearn.model_selection import train_test_split\n",
        "from sklearn.model_selection import StratifiedKFold\n",
        "from sklearn.ensemble import RandomForestClassifier\n",
        "from sklearn.svm import SVC\n",
        "from sklearn.metrics import confusion_matrix, precision_recall_fscore_support, cohen_kappa_score, accuracy_score"
      ],
      "metadata": {
        "id": "MxyYOr5DDU-o"
      },
      "execution_count": 1,
      "outputs": []
    },
    {
      "cell_type": "code",
      "source": [
        "from google.colab import drive\n",
        "drive.mount('/content/drive', force_remount=True)"
      ],
      "metadata": {
        "colab": {
          "base_uri": "https://localhost:8080/"
        },
        "id": "sC_EBrz1IR75",
        "outputId": "e12c8a37-697e-4ac2-e6f4-1d164b5d5dad"
      },
      "execution_count": 2,
      "outputs": [
        {
          "output_type": "stream",
          "name": "stdout",
          "text": [
            "Mounted at /content/drive\n"
          ]
        }
      ]
    },
    {
      "cell_type": "code",
      "source": [
        "!pip install mne"
      ],
      "metadata": {
        "colab": {
          "base_uri": "https://localhost:8080/"
        },
        "id": "sM0Ue5SkkZri",
        "outputId": "09b29386-aa42-48f8-ec53-cc3d2d0904e6"
      },
      "execution_count": 3,
      "outputs": [
        {
          "output_type": "stream",
          "name": "stdout",
          "text": [
            "Looking in indexes: https://pypi.org/simple, https://us-python.pkg.dev/colab-wheels/public/simple/\n",
            "Collecting mne\n",
            "  Downloading mne-1.0.3-py3-none-any.whl (7.5 MB)\n",
            "\u001b[K     |████████████████████████████████| 7.5 MB 3.9 MB/s \n",
            "\u001b[?25hRequirement already satisfied: numpy>=1.15.4 in /usr/local/lib/python3.7/dist-packages (from mne) (1.21.6)\n",
            "Requirement already satisfied: decorator in /usr/local/lib/python3.7/dist-packages (from mne) (4.4.2)\n",
            "Requirement already satisfied: matplotlib in /usr/local/lib/python3.7/dist-packages (from mne) (3.2.2)\n",
            "Requirement already satisfied: pooch>=1.5 in /usr/local/lib/python3.7/dist-packages (from mne) (1.6.0)\n",
            "Requirement already satisfied: packaging in /usr/local/lib/python3.7/dist-packages (from mne) (21.3)\n",
            "Requirement already satisfied: jinja2 in /usr/local/lib/python3.7/dist-packages (from mne) (2.11.3)\n",
            "Requirement already satisfied: tqdm in /usr/local/lib/python3.7/dist-packages (from mne) (4.64.0)\n",
            "Requirement already satisfied: scipy>=1.1.0 in /usr/local/lib/python3.7/dist-packages (from mne) (1.4.1)\n",
            "Requirement already satisfied: appdirs>=1.3.0 in /usr/local/lib/python3.7/dist-packages (from pooch>=1.5->mne) (1.4.4)\n",
            "Requirement already satisfied: requests>=2.19.0 in /usr/local/lib/python3.7/dist-packages (from pooch>=1.5->mne) (2.23.0)\n",
            "Requirement already satisfied: pyparsing!=3.0.5,>=2.0.2 in /usr/local/lib/python3.7/dist-packages (from packaging->mne) (3.0.9)\n",
            "Requirement already satisfied: idna<3,>=2.5 in /usr/local/lib/python3.7/dist-packages (from requests>=2.19.0->pooch>=1.5->mne) (2.10)\n",
            "Requirement already satisfied: urllib3!=1.25.0,!=1.25.1,<1.26,>=1.21.1 in /usr/local/lib/python3.7/dist-packages (from requests>=2.19.0->pooch>=1.5->mne) (1.24.3)\n",
            "Requirement already satisfied: certifi>=2017.4.17 in /usr/local/lib/python3.7/dist-packages (from requests>=2.19.0->pooch>=1.5->mne) (2022.5.18.1)\n",
            "Requirement already satisfied: chardet<4,>=3.0.2 in /usr/local/lib/python3.7/dist-packages (from requests>=2.19.0->pooch>=1.5->mne) (3.0.4)\n",
            "Requirement already satisfied: MarkupSafe>=0.23 in /usr/local/lib/python3.7/dist-packages (from jinja2->mne) (2.0.1)\n",
            "Requirement already satisfied: kiwisolver>=1.0.1 in /usr/local/lib/python3.7/dist-packages (from matplotlib->mne) (1.4.2)\n",
            "Requirement already satisfied: python-dateutil>=2.1 in /usr/local/lib/python3.7/dist-packages (from matplotlib->mne) (2.8.2)\n",
            "Requirement already satisfied: cycler>=0.10 in /usr/local/lib/python3.7/dist-packages (from matplotlib->mne) (0.11.0)\n",
            "Requirement already satisfied: typing-extensions in /usr/local/lib/python3.7/dist-packages (from kiwisolver>=1.0.1->matplotlib->mne) (4.2.0)\n",
            "Requirement already satisfied: six>=1.5 in /usr/local/lib/python3.7/dist-packages (from python-dateutil>=2.1->matplotlib->mne) (1.15.0)\n",
            "Installing collected packages: mne\n",
            "Successfully installed mne-1.0.3\n"
          ]
        }
      ]
    },
    {
      "cell_type": "code",
      "source": [
        "sys.path.append('/content/drive/Shareddrives/BCI/sleep_study/sleep_study')\n",
        "import sleep_study as ss"
      ],
      "metadata": {
        "id": "I2H5BzCFDh1W"
      },
      "execution_count": 4,
      "outputs": []
    },
    {
      "cell_type": "markdown",
      "source": [
        "# Useful Functions"
      ],
      "metadata": {
        "id": "lp_oqUo5Djbu"
      }
    },
    {
      "cell_type": "code",
      "source": [
        "def get_metrics(y, y_hat, verbose=True):\n",
        "    cf = confusion_matrix(y, y_hat)\n",
        "    ncf = 100*confusion_matrix(y, y_hat, normalize='true') # percentage\n",
        "    precision,recall,mf,support = precision_recall_fscore_support(y,y_hat,average='macro')\n",
        "    kp = cohen_kappa_score(y, y_hat)\n",
        "    acc = 100*accuracy_score(y, y_hat) # percentage\n",
        "    \n",
        "    if verbose:\n",
        "        print('\\nConfusion Matrix')\n",
        "        print(cf)\n",
        "        print('\\nNormalized Confusion Matrix')\n",
        "        print(np.round(ncf))\n",
        "        print('Accuracy: ', acc)\n",
        "        print('Precision: ',precision)\n",
        "        print('Recall: ',recall)\n",
        "        print('Macro-F1 Score: ',mf)\n",
        "        print('Kohen Kappa: ',kp)\n",
        "        \n",
        "    return {'confusion matrix': cf,\n",
        "            'normalized confusion matrix': ncf,\n",
        "            'accuracy': acc,\n",
        "            'precision': precision,\n",
        "            'recall': recall,\n",
        "            'Macro-F1 Score': mf,\n",
        "            'Kohen Kappa': kp}"
      ],
      "metadata": {
        "id": "XrJkRIsmDmwG"
      },
      "execution_count": 5,
      "outputs": []
    },
    {
      "cell_type": "code",
      "source": [
        "def print_all_metrics(res, keys):\n",
        "    ncf_name = 'normalized confusion matrix'\n",
        "    \n",
        "    for i, k in enumerate(keys):\n",
        "        all_metrics = res[k]\n",
        "        num_trials = len(all_metrics)\n",
        "                \n",
        "        means = pd.DataFrame(data = np.round(np.mean([all_metrics[rr][ncf_name] for rr in range(num_trials)], axis=0), 1), dtype='str')\n",
        "        stds = pd.DataFrame(data = np.round(np.std([all_metrics[rr][ncf_name] for rr in range(num_trials)], axis=0), 1), dtype='str')\n",
        "        tbl = (means + \" \" + u\"\\u00B1\" + \" \" + stds).to_numpy()\n",
        "        print(ncf_name)\n",
        "        print(tbl) # I want normalized CF to print nicely with mean \\pm standard deviation.\n",
        "\n",
        "        for j in ['accuracy', 'precision', 'recall', 'Macro-F1 Score', 'Kohen Kappa']:\n",
        "            m = str(np.round(np.mean([all_metrics[rr][j] for rr in range(num_trials)]), 3))\n",
        "            s = str(np.round(np.std([all_metrics[rr][j] for rr in range(num_trials)]), 3))\n",
        "            print(j, \":\", m + \" \" + u\"\\u00B1\" + \" \" + s)\n",
        "        print( )"
      ],
      "metadata": {
        "id": "GaLATE5FDo74"
      },
      "execution_count": 6,
      "outputs": []
    },
    {
      "cell_type": "code",
      "source": [
        "def get_npz_file_names(path):\n",
        "    files = []\n",
        "    with os.scandir(path) as it:\n",
        "        for entry in it:\n",
        "            if (entry.name.endswith('.npz') or entry.name.endswith('.NPZ')) and entry.is_file():\n",
        "                files.append(path+entry.name)\n",
        "    return files"
      ],
      "metadata": {
        "id": "LvFSQEc2Dr2p"
      },
      "execution_count": 7,
      "outputs": []
    },
    {
      "cell_type": "code",
      "source": [
        "def load_features(fn, verbose=False):   \n",
        "    X = np.load(fn, allow_pickle=True)\n",
        "    data, features, labels = X['data'], X[\"features\"], X[\"labels\"]\n",
        "    if verbose:\n",
        "        print(fn)\n",
        "        print(features.shape, labels.shape)\n",
        "        \n",
        "    return data, features, labels"
      ],
      "metadata": {
        "id": "SWIUBruEDtSP"
      },
      "execution_count": 8,
      "outputs": []
    },
    {
      "cell_type": "code",
      "source": [
        "def train_test_classifier(idxs, data, clf, verbose=True):\n",
        "    \n",
        "    train_idx, test_idx = idxs\n",
        "    X, y = data\n",
        "    \n",
        "    X_train, X_test = X[train_idx,:], X[test_idx,:]\n",
        "    y_train, y_test = y[train_idx], y[test_idx]\n",
        "    \n",
        "    if verbose:\n",
        "        print('train set class distribution', sorted(Counter(y_train).items()))\n",
        "        print('test set class distribution', sorted(Counter(y_test).items()))\n",
        "\n",
        "    t = time.time()\n",
        "    clf.fit(X_train, y_train)\n",
        "\n",
        "    if verbose:\n",
        "        print('training took', np.around((time.time()-t)/60, 2), 'minutes.')\n",
        "\n",
        "    y_hat = clf.predict(X_test)\n",
        "\n",
        "    metrics = get_metrics(y_test, y_hat, verbose=False)\n",
        "    \n",
        "    y_pred = clf.predict_proba(X_test)\n",
        "\n",
        "    plot_roc(np.eye(5)[y_test], y_pred)\n",
        "\n",
        "    if verbose:\n",
        "        print(metrics)\n",
        "        print( )\n",
        "\n",
        "    return metrics, y_hat"
      ],
      "metadata": {
        "id": "XZAU-sqDDugK"
      },
      "execution_count": 9,
      "outputs": []
    },
    {
      "cell_type": "code",
      "source": [
        "from sklearn.metrics import roc_curve, auc, roc_auc_score\n",
        "\n",
        "\n",
        "def plot_roc(y_test, preds):\n",
        "    fig = plt.figure(figsize=(8,6))\n",
        "    \n",
        "    for i in range(5):\n",
        "        fpr, tpr, _ = roc_curve(y_test[:, i], preds[:, i])\n",
        "        roc_auc = auc(fpr, tpr)\n",
        "        # plot the roc curve for the model\n",
        "        plt.plot(fpr, tpr, linestyle='solid', label='Label:{} AUC={:.3f}'.format(i, roc_auc))\n",
        "\n",
        "    plt.xlabel('False Positive Rate')\n",
        "    plt.ylabel('True Positive Rate')\n",
        "    plt.title('ROC')\n",
        "    plt.legend(loc=\"lower right\")\n",
        "    plt.plot([0,1], [0,1], color='orange', linestyle='--')\n",
        "#     filename = title + '.svg'\n",
        "#     plt.savefig(filename)\n",
        "    plt.show()"
      ],
      "metadata": {
        "id": "8Vczp84YuNmE"
      },
      "execution_count": 10,
      "outputs": []
    },
    {
      "cell_type": "markdown",
      "source": [
        "# Random Forest"
      ],
      "metadata": {
        "id": "_GgfmT12EBZu"
      }
    },
    {
      "cell_type": "code",
      "source": [
        "all_eeg_wave = []\n",
        "all_eog_wave = []\n",
        "all_eeg_features = []\n",
        "all_eog_features = []\n",
        "all_labels = []\n",
        "\n",
        "feature_files = get_npz_file_names('/content/drive/Shareddrives/BCI/BCI_Data/Sleep_Data/')\n",
        "\n",
        "for fn in feature_files:\n",
        "    data, features, labels = load_features(fn)\n",
        "\n",
        "    # if (features.shape[1:] != (9, 12)):\n",
        "    #     continue\n",
        "    all_eeg_wave.extend(data[:, :7])\n",
        "    all_eog_wave.extend(data[:, 7:])\n",
        "    all_eeg_features.extend(features[:, :7])\n",
        "    all_eog_features.extend(features[:, 7:])\n",
        "\n",
        "    all_labels.extend(labels)\n",
        "\n",
        "all_eeg_wave = np.array(all_eeg_wave)\n",
        "all_eog_wave = np.array(all_eog_wave)\n",
        "all_eeg_features = np.array(all_eeg_features)\n",
        "all_eog_features = np.array(all_eog_features)\n",
        "all_labels = np.array(all_labels)"
      ],
      "metadata": {
        "id": "yHIzWtoJWOOE"
      },
      "execution_count": null,
      "outputs": []
    },
    {
      "cell_type": "code",
      "source": [
        "all_labels.shape"
      ],
      "metadata": {
        "colab": {
          "base_uri": "https://localhost:8080/"
        },
        "id": "vodeiZHVX3bA",
        "outputId": "6d3b55fc-63ff-4a77-9ddc-b53484e16fcb"
      },
      "execution_count": 13,
      "outputs": [
        {
          "output_type": "execute_result",
          "data": {
            "text/plain": [
              "(622,)"
            ]
          },
          "metadata": {},
          "execution_count": 13
        }
      ]
    },
    {
      "cell_type": "code",
      "source": [
        "np.random.seed(2022)\n",
        "clf = RandomForestClassifier(n_estimators=200, bootstrap=True, n_jobs=-1, class_weight='balanced')\n",
        "\n",
        "X_train, X_test, y_train, y_test = train_test_split(all_eeg_wave, all_labels, stratify=all_labels)\n",
        "X_train = np.reshape(X_train, (len(X_train), -1))\n",
        "X_test = np.reshape(X_test, (len(X_test), -1))\n",
        "\n",
        "print('train set class distribution', sorted(Counter(y_train).items()))\n",
        "print('test set class distribution', sorted(Counter(y_test).items()))\n",
        "\n",
        "t = time.time()\n",
        "clf.fit(X_train, y_train)\n",
        "\n",
        "print('training took', np.around((time.time()-t)/60, 2), 'minutes.')\n",
        "\n",
        "y_hat = clf.predict(X_test)\n",
        "\n",
        "metrics = get_metrics(y_test, y_hat, verbose=False)\n",
        "print(metrics)\n",
        "\n",
        "y_pred = clf.predict_proba(X_test)\n",
        "\n",
        "plot_roc(np.eye(5)[y_test], y_pred)"
      ],
      "metadata": {
        "id": "p_C89JWegrto"
      },
      "execution_count": null,
      "outputs": []
    },
    {
      "cell_type": "code",
      "source": [
        "from sklearn.decomposition import FastICA\n",
        "import warnings\n",
        "warnings.filterwarnings(\"ignore\")\n",
        "\n",
        "np.random.seed(2022)\n",
        "clf = RandomForestClassifier(n_estimators=200, bootstrap=True, n_jobs=-1, class_weight='balanced')\n",
        "\n",
        "all_eeg_wave_processed = []\n",
        "for i in all_eeg_wave:\n",
        "    transformer = FastICA(whiten='unit-variance', random_state=2022)\n",
        "\n",
        "    all_eeg_wave_processed.append(np.abs(np.fft.rfft(transformer.fit_transform(i.T))))\n",
        "\n",
        "all_eeg_wave_processed = np.array(all_eeg_wave_processed)\n",
        "\n",
        "X_train_ica, X_test_ica, y_train, y_test = train_test_split(all_eeg_wave_processed, all_labels, stratify=all_labels)\n",
        "\n",
        "X_train_ica = np.reshape(X_train_ica, (len(X_train_ica), -1))\n",
        "X_test_ica = np.reshape(X_test_ica, (len(X_test_ica), -1))\n",
        "\n",
        "print('train set class distribution', sorted(Counter(y_train).items()))\n",
        "print('test set class distribution', sorted(Counter(y_test).items()))\n",
        "\n",
        "t = time.time()\n",
        "clf.fit(X_train_ica, y_train)\n",
        "\n",
        "print('training took', np.around((time.time()-t)/60, 2), 'minutes.')\n",
        "\n",
        "y_hat = clf.predict(X_test_ica)\n",
        "\n",
        "metrics = get_metrics(y_test, y_hat, verbose=False)\n",
        "print(metrics)\n",
        "\n",
        "y_pred = clf.predict_proba(X_test_ica)\n",
        "\n",
        "plot_roc(np.eye(5)[y_test], y_pred)"
      ],
      "metadata": {
        "id": "oveqn3TskN09"
      },
      "execution_count": null,
      "outputs": []
    },
    {
      "cell_type": "code",
      "source": [
        "np.random.seed(2022)\n",
        "clf = RandomForestClassifier(n_estimators=200, bootstrap=True, n_jobs=-1, class_weight='balanced')\n",
        "\n",
        "X_train, X_test, y_train, y_test = train_test_split(all_eeg_features, all_labels, stratify=all_labels)\n",
        "X_train = np.reshape(X_train, (len(X_train), -1))\n",
        "X_test = np.reshape(X_test, (len(X_test), -1))\n",
        "\n",
        "print('train set class distribution', sorted(Counter(y_train).items()))\n",
        "print('test set class distribution', sorted(Counter(y_test).items()))\n",
        "\n",
        "t = time.time()\n",
        "clf.fit(X_train, y_train)\n",
        "\n",
        "print('training took', np.around((time.time()-t)/60, 2), 'minutes.')\n",
        "\n",
        "y_hat = clf.predict(X_test)\n",
        "\n",
        "metrics = get_metrics(y_test, y_hat, verbose=False)\n",
        "print(metrics)\n",
        "\n",
        "y_pred = clf.predict_proba(X_test)\n",
        "\n",
        "plot_roc(np.eye(5)[y_test], y_pred)"
      ],
      "metadata": {
        "colab": {
          "base_uri": "https://localhost:8080/",
          "height": 699
        },
        "id": "DPyXCiIuLdRq",
        "outputId": "20240709-c3b7-4270-90eb-40ba5d0cccde"
      },
      "execution_count": null,
      "outputs": [
        {
          "output_type": "stream",
          "name": "stdout",
          "text": [
            "train set class distribution [(0, 28687), (1, 10159), (2, 10146), (3, 4330), (4, 1751)]\n",
            "test set class distribution [(0, 9562), (1, 3386), (2, 3382), (3, 1444), (4, 584)]\n",
            "training took 2.22 minutes.\n",
            "{'confusion matrix': array([[9304,  104,  124,   27,    3],\n",
            "       [1861, 1419,   97,    8,    1],\n",
            "       [2360,  231,  779,   10,    2],\n",
            "       [1106,   73,   24,  235,    6],\n",
            "       [ 490,   41,   42,    5,    6]]), 'normalized confusion matrix': array([[9.73018197e+01, 1.08763857e+00, 1.29679983e+00, 2.82367706e-01,\n",
            "        3.13741895e-02],\n",
            "       [5.49616066e+01, 4.19078559e+01, 2.86473715e+00, 2.36266982e-01,\n",
            "        2.95333727e-02],\n",
            "       [6.97811946e+01, 6.83027794e+00, 2.30337079e+01, 2.95683028e-01,\n",
            "        5.91366056e-02],\n",
            "       [7.65927978e+01, 5.05540166e+00, 1.66204986e+00, 1.62742382e+01,\n",
            "        4.15512465e-01],\n",
            "       [8.39041096e+01, 7.02054795e+00, 7.19178082e+00, 8.56164384e-01,\n",
            "        1.02739726e+00]]), 'accuracy': 63.96666303518902, 'precision': 0.6527206325203734, 'recall': 0.359090037865443, 'Macro-F1 Score': 0.3872151670022649, 'Kohen Kappa': 0.33303893383480654}\n"
          ]
        },
        {
          "output_type": "display_data",
          "data": {
            "text/plain": [
              "<Figure size 576x432 with 1 Axes>"
            ],
            "image/png": "[encoded data removed]"
          },
          "metadata": {
            "needs_background": "light"
          }
        }
      ]
    },
    {
      "cell_type": "markdown",
      "source": [
        "# CNN"
      ],
      "metadata": {
        "id": "_pEijsdHFDAM"
      }
    },
    {
      "cell_type": "code",
      "source": [
        "all_eeg_features = []\n",
        "all_eog_features = []\n",
        "all_labels = []\n",
        "\n",
        "feature_files = get_npz_file_names('/content/drive/Shareddrives/BCI/BCI_Data/Sleep_Data/')\n",
        "\n",
        "for fn in feature_files:\n",
        "    features, labels = load_features(fn)\n",
        "\n",
        "    # if (features.shape[1:] != (9, 12)):\n",
        "    #     continue\n",
        "\n",
        "    all_eeg_features.extend(features[:, :7])\n",
        "    all_eog_features.extend(features[:, 7:])\n",
        "\n",
        "    all_labels.extend(labels)\n",
        "\n",
        "all_eeg_features = np.array(all_eeg_features)\n",
        "all_eog_features = np.array(all_eog_features)\n",
        "all_labels = np.array(all_labels)"
      ],
      "metadata": {
        "id": "7iee8JIqK-oZ"
      },
      "execution_count": null,
      "outputs": []
    },
    {
      "cell_type": "code",
      "source": [
        "from sklearn.utils import class_weight \n",
        "class_weights = class_weight.compute_class_weight(class_weight='balanced', classes=np.unique(all_labels), y=all_labels)\n",
        "class_weights = dict(enumerate(class_weights))\n",
        "class_weights"
      ],
      "metadata": {
        "colab": {
          "base_uri": "https://localhost:8080/"
        },
        "id": "-DK3vbp6f-PX",
        "outputId": "33cbb19c-442c-4406-e50f-7d5145e619bf"
      },
      "execution_count": null,
      "outputs": [
        {
          "output_type": "execute_result",
          "data": {
            "text/plain": [
              "{0: 0.3839629794242987,\n",
              " 1: 1.0842524916943521,\n",
              " 2: 1.085615020697812,\n",
              " 3: 2.5435053688950466,\n",
              " 4: 6.289593147751606}"
            ]
          },
          "metadata": {},
          "execution_count": 14
        }
      ]
    },
    {
      "cell_type": "code",
      "source": [
        "X_train, X_test, y_train, y_test = train_test_split(all_eeg_features, all_labels, stratify=all_labels)\n",
        "X_train, X_val, y_train, y_val = train_test_split(X_train, y_train, stratify=y_train)\n",
        "\n",
        "y_train = np.eye(5)[y_train]\n",
        "y_val = np.eye(5)[y_val]\n",
        "y_test = np.eye(5)[y_test]\n",
        "\n",
        "X_train = np.reshape(X_train, (len(X_train), 7, 12, 1))\n",
        "X_val = np.reshape(X_val, (len(X_val), 7, 12, 1))\n",
        "X_test = np.reshape(X_test, (len(X_test), 7, 12, 1))"
      ],
      "metadata": {
        "id": "Wkrk-bufgqhi"
      },
      "execution_count": null,
      "outputs": []
    },
    {
      "cell_type": "code",
      "source": [
        "from keras import backend as K\n",
        "\n",
        "def square(x):\n",
        "    return K.square(x)\n",
        "\n",
        "def log(x):\n",
        "    return K.log(K.clip(x, min_value = 1e-7, max_value = 10000))   \n",
        "\n",
        "model = keras.models.Sequential()\n",
        "model.add(keras.layers.Input((7, 12, 1)))\n",
        "\n",
        "model.add(keras.layers.DepthwiseConv2D(kernel_size=(7, 3), padding=\"same\"))\n",
        "# model.add(keras.layers.BatchNormalization())\n",
        "# model.add(keras.layers.ReLU())\n",
        "\n",
        "model.add(keras.layers.DepthwiseConv2D(kernel_size=(7, 1), padding=\"same\"))\n",
        "model.add(keras.layers.BatchNormalization())\n",
        "model.add(keras.layers.Activation(square))\n",
        "# model.add(keras.layers.ReLU())\n",
        "\n",
        "# model.add(keras.layers.Conv1D(filters=16, kernel_size=3, padding=\"same\"))\n",
        "# model.add(keras.layers.BatchNormalization())\n",
        "# model.add(keras.layers.ReLU())\n",
        "\n",
        "model.add(keras.layers.AveragePooling2D(pool_size=(1, 3)))\n",
        "model.add(keras.layers.Activation(log))\n",
        "\n",
        "model.add(keras.layers.Dropout(0.1))\n",
        "model.add(keras.layers.Flatten())\n",
        "# model.add(keras.layers.Dense(64, activation='relu'))\n",
        "model.add(keras.layers.Dense(5, activation='softmax'))\n",
        "\n",
        "model.compile(loss='categorical_crossentropy', optimizer='adam', metrics='AUC')\n",
        "\n",
        "model.summary()\n",
        "\n",
        "checkpoint_filepath = '/tmp/checkpoint'\n",
        "model_checkpoint_callback = [tf.keras.callbacks.ModelCheckpoint(\n",
        "    filepath=checkpoint_filepath,\n",
        "    save_weights_only=True,\n",
        "    monitor='val_auc',\n",
        "    mode='max',\n",
        "    save_best_only=True),\n",
        "    keras.callbacks.EarlyStopping(monitor='val_loss', patience=3)]\n",
        "\n",
        "history = model.fit(X_train, y_train, epochs=100, batch_size=32, class_weight=class_weights, validation_data=(X_val, y_val), callbacks=model_checkpoint_callback)\n",
        "\n",
        "y_pred = model.predict(X_test)\n",
        "\n",
        "plot_roc(y_test, y_pred)"
      ],
      "metadata": {
        "id": "Alx_Tn2pBLhP"
      },
      "execution_count": null,
      "outputs": []
    },
    {
      "cell_type": "code",
      "source": [
        "model = keras.models.Sequential()\n",
        "model.add(keras.layers.Input((7, 12)))\n",
        "\n",
        "model.add(keras.layers.Conv1D(filters=64, kernel_size=3, padding=\"same\"))\n",
        "model.add(keras.layers.BatchNormalization())\n",
        "model.add(keras.layers.ReLU())\n",
        "\n",
        "model.add(keras.layers.Conv1D(filters=32, kernel_size=3, padding=\"same\"))\n",
        "model.add(keras.layers.BatchNormalization())\n",
        "model.add(keras.layers.ReLU())\n",
        "\n",
        "model.add(keras.layers.Conv1D(filters=16, kernel_size=3, padding=\"same\"))\n",
        "model.add(keras.layers.BatchNormalization())\n",
        "model.add(keras.layers.ReLU())\n",
        "\n",
        "# model.add(keras.layers.GlobalMaxPooling1D())\n",
        "model.add(keras.layers.Flatten())\n",
        "\n",
        "# model.add(keras.layers.Dropout(0.5))\n",
        "model.add(keras.layers.Dense(64, activation='relu'))\n",
        "model.add(keras.layers.Dense(1, activation='sigmoid'))\n",
        "\n",
        "model.compile(loss='binary_crossentropy', optimizer='adam', metrics='AUC')\n",
        "\n",
        "model.summary()\n",
        "\n",
        "callback = keras.callbacks.EarlyStopping(monitor='val_loss', patience=3)\n",
        "\n",
        "X_train_ps = np.abs(np.fft.rfft(X_train, axis=1))\n",
        "X_val_ps = np.abs(np.fft.rfft(X_val, axis=1))\n",
        "history = model.fit(np.abs(np.fft.rfft(X_train, axis=1)), y_train, epochs=100, batch_size=16, class_weight=class_weights, validation_data=(np.abs(np.fft.rfft(X_val, axis=1)), y_val), callbacks=callback)"
      ],
      "metadata": {
        "id": "HYmF-_5wF55d"
      },
      "execution_count": null,
      "outputs": []
    }
  ]
}