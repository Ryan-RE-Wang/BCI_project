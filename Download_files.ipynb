{
  "nbformat": 4,
  "nbformat_minor": 0,
  "metadata": {
    "colab": {
      "name": "Download files",
      "provenance": [],
      "collapsed_sections": [
        "C01NVhvPNaDg",
        "lp_oqUo5Djbu"
      ],
      "include_colab_link": true
    },
    "kernelspec": {
      "name": "python3",
      "display_name": "Python 3"
    },
    "language_info": {
      "name": "python"
    }
  },
  "cells": [
    {
      "cell_type": "markdown",
      "metadata": {
        "id": "view-in-github",
        "colab_type": "text"
      },
      "source": [
        "<a href=\"https://colab.research.google.com/github/Ryan-RE-Wang/BCI_project/blob/main/Download_files.ipynb\" target=\"_parent\"><img src=\"https://colab.research.google.com/assets/colab-badge.svg\" alt=\"Open In Colab\"/></a>"
      ]
    },
    {
      "cell_type": "markdown",
      "source": [
        "# Set up"
      ],
      "metadata": {
        "id": "C01NVhvPNaDg"
      }
    },
    {
      "cell_type": "code",
      "source": [
        "import numpy as np\n",
        "import pandas as pd\n",
        "import matplotlib.pyplot as plt\n",
        "from random import seed\n",
        "from collections import Counter\n",
        "from datetime import datetime\n",
        "import time\n",
        "import os, sys\n",
        "\n",
        "from sklearn.model_selection import StratifiedKFold\n",
        "from sklearn.ensemble import RandomForestClassifier\n",
        "from sklearn.metrics import confusion_matrix, precision_recall_fscore_support, cohen_kappa_score, accuracy_score"
      ],
      "metadata": {
        "id": "MxyYOr5DDU-o"
      },
      "execution_count": 1,
      "outputs": []
    },
    {
      "cell_type": "code",
      "source": [
        "from google.colab import drive\n",
        "drive.mount('/content/drive', force_remount=True)"
      ],
      "metadata": {
        "colab": {
          "base_uri": "https://localhost:8080/"
        },
        "id": "sC_EBrz1IR75",
        "outputId": "b9cd8b06-3aec-4713-e767-4481ad0c33ed"
      },
      "execution_count": 3,
      "outputs": [
        {
          "output_type": "stream",
          "name": "stdout",
          "text": [
            "Mounted at /content/drive\n"
          ]
        }
      ]
    },
    {
      "cell_type": "code",
      "source": [
        "!pip install mne"
      ],
      "metadata": {
        "id": "RvrDocHBkhft",
        "colab": {
          "base_uri": "https://localhost:8080/"
        },
        "outputId": "e1423b68-23b7-47b5-ef60-0d3bc8f377ba"
      },
      "execution_count": 4,
      "outputs": [
        {
          "output_type": "stream",
          "name": "stdout",
          "text": [
            "Looking in indexes: https://pypi.org/simple, https://us-python.pkg.dev/colab-wheels/public/simple/\n",
            "Collecting mne\n",
            "  Downloading mne-1.0.3-py3-none-any.whl (7.5 MB)\n",
            "\u001b[K     |████████████████████████████████| 7.5 MB 4.6 MB/s \n",
            "\u001b[?25hRequirement already satisfied: pooch>=1.5 in /usr/local/lib/python3.7/dist-packages (from mne) (1.6.0)\n",
            "Requirement already satisfied: decorator in /usr/local/lib/python3.7/dist-packages (from mne) (4.4.2)\n",
            "Requirement already satisfied: jinja2 in /usr/local/lib/python3.7/dist-packages (from mne) (2.11.3)\n",
            "Requirement already satisfied: packaging in /usr/local/lib/python3.7/dist-packages (from mne) (21.3)\n",
            "Requirement already satisfied: numpy>=1.15.4 in /usr/local/lib/python3.7/dist-packages (from mne) (1.21.6)\n",
            "Requirement already satisfied: tqdm in /usr/local/lib/python3.7/dist-packages (from mne) (4.64.0)\n",
            "Requirement already satisfied: scipy>=1.1.0 in /usr/local/lib/python3.7/dist-packages (from mne) (1.4.1)\n",
            "Requirement already satisfied: matplotlib in /usr/local/lib/python3.7/dist-packages (from mne) (3.2.2)\n",
            "Requirement already satisfied: requests>=2.19.0 in /usr/local/lib/python3.7/dist-packages (from pooch>=1.5->mne) (2.23.0)\n",
            "Requirement already satisfied: appdirs>=1.3.0 in /usr/local/lib/python3.7/dist-packages (from pooch>=1.5->mne) (1.4.4)\n",
            "Requirement already satisfied: pyparsing!=3.0.5,>=2.0.2 in /usr/local/lib/python3.7/dist-packages (from packaging->mne) (3.0.9)\n",
            "Requirement already satisfied: certifi>=2017.4.17 in /usr/local/lib/python3.7/dist-packages (from requests>=2.19.0->pooch>=1.5->mne) (2022.5.18.1)\n",
            "Requirement already satisfied: urllib3!=1.25.0,!=1.25.1,<1.26,>=1.21.1 in /usr/local/lib/python3.7/dist-packages (from requests>=2.19.0->pooch>=1.5->mne) (1.24.3)\n",
            "Requirement already satisfied: chardet<4,>=3.0.2 in /usr/local/lib/python3.7/dist-packages (from requests>=2.19.0->pooch>=1.5->mne) (3.0.4)\n",
            "Requirement already satisfied: idna<3,>=2.5 in /usr/local/lib/python3.7/dist-packages (from requests>=2.19.0->pooch>=1.5->mne) (2.10)\n",
            "Requirement already satisfied: MarkupSafe>=0.23 in /usr/local/lib/python3.7/dist-packages (from jinja2->mne) (2.0.1)\n",
            "Requirement already satisfied: cycler>=0.10 in /usr/local/lib/python3.7/dist-packages (from matplotlib->mne) (0.11.0)\n",
            "Requirement already satisfied: python-dateutil>=2.1 in /usr/local/lib/python3.7/dist-packages (from matplotlib->mne) (2.8.2)\n",
            "Requirement already satisfied: kiwisolver>=1.0.1 in /usr/local/lib/python3.7/dist-packages (from matplotlib->mne) (1.4.2)\n",
            "Requirement already satisfied: typing-extensions in /usr/local/lib/python3.7/dist-packages (from kiwisolver>=1.0.1->matplotlib->mne) (4.2.0)\n",
            "Requirement already satisfied: six>=1.5 in /usr/local/lib/python3.7/dist-packages (from python-dateutil>=2.1->matplotlib->mne) (1.15.0)\n",
            "Installing collected packages: mne\n",
            "Successfully installed mne-1.0.3\n"
          ]
        }
      ]
    },
    {
      "cell_type": "code",
      "source": [
        "sys.path.append('/content/drive/Shareddrives/BCI/sleep_study/sleep_study')\n",
        "import sleep_study as ss"
      ],
      "metadata": {
        "id": "I2H5BzCFDh1W"
      },
      "execution_count": 5,
      "outputs": []
    },
    {
      "cell_type": "markdown",
      "source": [
        "# Useful Functions"
      ],
      "metadata": {
        "id": "lp_oqUo5Djbu"
      }
    },
    {
      "cell_type": "code",
      "source": [
        "import subprocess\n",
        "\n",
        "def runcmd(cmd, verbose = False, *args, **kwargs):\n",
        "\n",
        "    process = subprocess.Popen(\n",
        "        cmd,\n",
        "        stdout = subprocess.PIPE,\n",
        "        stderr = subprocess.PIPE,\n",
        "        text = True,\n",
        "        shell = True\n",
        "    )\n",
        "    std_out, std_err = process.communicate()\n",
        "    if verbose:\n",
        "        print(std_out.strip(), std_err)\n",
        "    pass"
      ],
      "metadata": {
        "id": "fNcJxQYUEw6B"
      },
      "execution_count": 6,
      "outputs": []
    },
    {
      "cell_type": "markdown",
      "source": [
        "# Download file"
      ],
      "metadata": {
        "id": "8pnHq7esDv2P"
      }
    },
    {
      "cell_type": "code",
      "source": [
        "ss.init('/content/drive/Shareddrives/BCI/BCI_Data')\n",
        "print('total number of sleep study files available:', len(ss.data.study_list))"
      ],
      "metadata": {
        "colab": {
          "base_uri": "https://localhost:8080/"
        },
        "id": "mhoHCvc3Dy8A",
        "outputId": "be7d12e3-a1e2-42eb-ebb9-387bda3335e2"
      },
      "execution_count": 7,
      "outputs": [
        {
          "output_type": "stream",
          "name": "stdout",
          "text": [
            "age information stored in /content/age_file.csv\n",
            "total number of sleep study files available: 0\n"
          ]
        }
      ]
    },
    {
      "cell_type": "code",
      "source": [
        "age_groups = list(zip(range(0, 18), range(1, 19))) + [(18, 100)]\n",
        "\n",
        "tmp = np.load('/content/drive/Shareddrives/BCI/sleep_study/sleep_study/examples/wavelet/study_lists.npz', allow_pickle=True) \n",
        "study_lists = tmp[\"study_lists\"] # filenames that are in each age group"
      ],
      "metadata": {
        "id": "mJPfRf9HD1AN"
      },
      "execution_count": 8,
      "outputs": []
    },
    {
      "cell_type": "code",
      "source": [
        "# this can be parallelized to speed up the process\n",
        "for i, study_list in enumerate(study_lists):\n",
        "    if (i < 4):\n",
        "        continue\n",
        "    for j, name in enumerate(study_lists[i]):\n",
        "        if (i == 4 and j <= 156):\n",
        "            continue\n",
        "\n",
        "        cmd = 'wget -r -N -c -np --user ryanwang --password ryan57231211 -A \"{k}.*\" https://physionet.org/files/nch-sleep/3.1.0/Sleep_Data/ -P /content/'.format(k=name)\n",
        "        runcmd(cmd)\n",
        "\n",
        "        try:\n",
        "            features, labels = ss.data.get_demo_wavelet_features_and_labels(name)\n",
        "            features = np.array(features)\n",
        "            labels = np.array(labels)\n",
        "\n",
        "            cmd = 'rm -r /content/physionet.org/'\n",
        "            runcmd(cmd)\n",
        "\n",
        "            print( )\n",
        "            print(features.shape, labels.shape)\n",
        "            \n",
        "            fn = '/content/drive/Shareddrives/BCI/BCI_Data/Sleep_Data/wavelet_features' + name\n",
        "            \n",
        "            np.savez(fn, labels=labels, features=features)\n",
        "            print('features from', name, 'i:{}, j:{}'.format(i, j))\n",
        "            print(' ')\n",
        "        except:\n",
        "            continue"
      ],
      "metadata": {
        "colab": {
          "base_uri": "https://localhost:8080/"
        },
        "id": "z5_DYjQHRTWC",
        "outputId": "ed8bd59d-e7a8-4f09-d99d-44706aae5202"
      },
      "execution_count": null,
      "outputs": [
        {
          "output_type": "stream",
          "name": "stdout",
          "text": [
            "\n",
            "(15, 9, 12) (15,)\n",
            "features from 14338_6229 i:4, j:158\n",
            " \n",
            "\n",
            "(14, 9, 12) (14,)\n",
            "features from 14377_7231 i:4, j:159\n",
            " \n",
            "\n",
            "(14, 9, 12) (14,)\n",
            "features from 14410_17341 i:4, j:160\n",
            " \n",
            "\n",
            "(1, 9, 12) (1,)\n",
            "features from 14533_10999 i:4, j:162\n",
            " \n",
            "\n",
            "(8, 9, 12) (8,)\n",
            "features from 14677_3190 i:4, j:164\n",
            " \n",
            "\n",
            "(84, 9, 12) (84,)\n",
            "features from 14707_20176 i:4, j:165\n",
            " \n",
            "\n",
            "(16, 9, 12) (16,)\n",
            "features from 14710_4837 i:4, j:166\n",
            " \n",
            "\n",
            "(12, 9, 12) (12,)\n",
            "features from 14722_7546 i:4, j:168\n",
            " \n",
            "\n",
            "(5, 9, 12) (5,)\n",
            "features from 14863_11794 i:4, j:169\n",
            " \n",
            "\n",
            "(8, 9, 12) (8,)\n",
            "features from 14968_9133 i:4, j:170\n",
            " \n",
            "\n",
            "(24, 9, 12) (24,)\n",
            "features from 14971_9346 i:4, j:171\n",
            " \n",
            "\n",
            "(6, 9, 12) (6,)\n",
            "features from 15034_4834 i:4, j:172\n",
            " \n",
            "\n",
            "(6, 9, 12) (6,)\n",
            "features from 15064_25915 i:4, j:173\n",
            " \n",
            "\n",
            "(17, 9, 12) (17,)\n",
            "features from 15208_18769 i:4, j:174\n",
            " \n",
            "\n",
            "(545, 9, 12) (545,)\n",
            "features from 15220_22624 i:4, j:175\n",
            " \n",
            "\n",
            "(5, 9, 12) (5,)\n",
            "features from 15409_25495 i:4, j:176\n",
            " \n",
            "\n",
            "(1, 9, 12) (1,)\n",
            "features from 15442_3055 i:4, j:178\n",
            " \n",
            "\n",
            "(62, 9, 12) (62,)\n",
            "features from 15661_5245 i:4, j:179\n",
            " \n"
          ]
        }
      ]
    },
    {
      "cell_type": "code",
      "source": [
        ""
      ],
      "metadata": {
        "id": "d7Xfi_SIveRs"
      },
      "execution_count": null,
      "outputs": []
    }
  ]
}